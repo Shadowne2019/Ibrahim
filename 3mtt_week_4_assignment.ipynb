{
  "nbformat": 4,
  "nbformat_minor": 0,
  "metadata": {
    "colab": {
      "provenance": [],
      "authorship_tag": "ABX9TyOm5K2fMs+lLJmyho4GnhZr",
      "include_colab_link": true
    },
    "kernelspec": {
      "name": "python3",
      "display_name": "Python 3"
    },
    "language_info": {
      "name": "python"
    }
  },
  "cells": [
    {
      "cell_type": "markdown",
      "metadata": {
        "id": "view-in-github",
        "colab_type": "text"
      },
      "source": [
        "<a href=\"https://colab.research.google.com/github/Shadowne2019/Ibrahim/blob/main/3mtt_week_4_assignment.ipynb\" target=\"_parent\"><img src=\"https://colab.research.google.com/assets/colab-badge.svg\" alt=\"Open In Colab\"/></a>"
      ]
    },
    {
      "cell_type": "markdown",
      "source": [
        "Displaying a list structures of data"
      ],
      "metadata": {
        "id": "wgefLUeoUoy7"
      }
    },
    {
      "cell_type": "code",
      "source": [
        "#if we eat enough fruits, then we would look very healthy\n",
        "fruits=(\"mango,banana,orange,apple,wotermelon\",)\n",
        "print(fruits)"
      ],
      "metadata": {
        "colab": {
          "base_uri": "https://localhost:8080/"
        },
        "id": "UII35-mnUxpP",
        "outputId": "10258330-a301-491e-b129-46650cdd13c8"
      },
      "execution_count": null,
      "outputs": [
        {
          "output_type": "stream",
          "name": "stdout",
          "text": [
            "('mango,banana,orange,apple,wotermelon',)\n"
          ]
        }
      ]
    },
    {
      "cell_type": "markdown",
      "source": [
        "Displaying a tuple structure of data"
      ],
      "metadata": {
        "id": "RdrJgWbeWClv"
      }
    },
    {
      "cell_type": "code",
      "source": [
        "# tuple\n",
        "my_tuple=(1,2,3,\"world\",\"kano\",\"jigawa\",1.5, 3.5 ,5.7)"
      ],
      "metadata": {
        "id": "hsFvCI3HWuxH"
      },
      "execution_count": null,
      "outputs": []
    },
    {
      "cell_type": "code",
      "source": [
        "my_new_tuple=(1,2,3,\"world\",\"kano\",\"jigawa\")"
      ],
      "metadata": {
        "id": "OfTuAFDiyBlZ"
      },
      "execution_count": null,
      "outputs": []
    },
    {
      "cell_type": "code",
      "source": [
        "# printing the value  tuple\n",
        "print(my_tuple)"
      ],
      "metadata": {
        "colab": {
          "base_uri": "https://localhost:8080/"
        },
        "id": "dJdUauIyR5P_",
        "outputId": "75beabf1-f5da-4d40-c723-e537d99d37fd"
      },
      "execution_count": null,
      "outputs": [
        {
          "output_type": "stream",
          "name": "stdout",
          "text": [
            "(1, 2, 3, 'world', 'kano', 'jigawa', 1.5, 3.5, 5.7)\n"
          ]
        }
      ]
    },
    {
      "cell_type": "markdown",
      "source": [
        "Sets: creating a sets using a Carly bracket{}"
      ],
      "metadata": {
        "id": "adqAenLMn8bE"
      }
    },
    {
      "cell_type": "code",
      "source": [
        "# a script that store some value and assign a variable to it\n",
        "my_set={1,2,34,5}"
      ],
      "metadata": {
        "id": "r4tpKwgJoqu9"
      },
      "execution_count": 2,
      "outputs": []
    },
    {
      "cell_type": "markdown",
      "source": [
        "Displaying the value of the set"
      ],
      "metadata": {
        "id": "jMJFjWRzp3J0"
      }
    },
    {
      "cell_type": "code",
      "source": [
        "print(my_set)"
      ],
      "metadata": {
        "colab": {
          "base_uri": "https://localhost:8080/"
        },
        "id": "e1gGKoBCp9ZT",
        "outputId": "8bf58af0-5bba-4e5b-b7cc-f98f48d915c6"
      },
      "execution_count": 3,
      "outputs": [
        {
          "output_type": "stream",
          "name": "stdout",
          "text": [
            "{1, 2, 34, 5}\n"
          ]
        }
      ]
    },
    {
      "cell_type": "code",
      "source": [
        "new_set={1,2,3,4,9,8,1,3,8,1,3,3,4}"
      ],
      "metadata": {
        "id": "ZsSri0ivqJvB"
      },
      "execution_count": 5,
      "outputs": []
    },
    {
      "cell_type": "code",
      "source": [
        "new_set"
      ],
      "metadata": {
        "colab": {
          "base_uri": "https://localhost:8080/"
        },
        "id": "YKlNQ6hJrKZL",
        "outputId": "cfb7a831-f4ec-4667-de4d-0feeb57eaa4a"
      },
      "execution_count": 6,
      "outputs": [
        {
          "output_type": "execute_result",
          "data": {
            "text/plain": [
              "{1, 2, 3, 4, 8, 9}"
            ]
          },
          "metadata": {},
          "execution_count": 6
        }
      ]
    },
    {
      "cell_type": "markdown",
      "source": [
        "Displaying a dictionary structure type\n",
        "\n",
        "Distionary"
      ],
      "metadata": {
        "id": "Mwpg2Y1jris1"
      }
    },
    {
      "cell_type": "code",
      "source": [
        "# a dictionary script that store some value and variable\n",
        "my_dict={\"name\":\"shadow\", \"age\":\"30\", \"town\":\"Dutse\"}"
      ],
      "metadata": {
        "id": "xbxoFQb1r2Bz"
      },
      "execution_count": 7,
      "outputs": []
    },
    {
      "cell_type": "markdown",
      "source": [
        "Displaying the dictionary"
      ],
      "metadata": {
        "id": "427Y_IVVtDLc"
      }
    },
    {
      "cell_type": "code",
      "source": [
        "print(my_dict)"
      ],
      "metadata": {
        "colab": {
          "base_uri": "https://localhost:8080/"
        },
        "id": "Lr85MoFhtH3N",
        "outputId": "50cfedea-ecd8-4895-b1ea-6b9f8eba37da"
      },
      "execution_count": 8,
      "outputs": [
        {
          "output_type": "stream",
          "name": "stdout",
          "text": [
            "{'name': 'shadow', 'age': '30', 'town': 'Dutse'}\n"
          ]
        }
      ]
    },
    {
      "cell_type": "markdown",
      "source": [
        "Conditional statement"
      ],
      "metadata": {
        "id": "FAGFTkaWUUHg"
      }
    },
    {
      "cell_type": "code",
      "source": [
        "# conditianal statement\n",
        "x =10\n",
        "\n",
        "if x > 0:\n",
        "   print(\"x is positive\")\n",
        "elif x == 0:\n",
        "    print(\"x is zero\")\n",
        "else:\n",
        "    print(\"x is negative\")"
      ],
      "metadata": {
        "colab": {
          "base_uri": "https://localhost:8080/"
        },
        "id": "PALa1dQ9Sy9w",
        "outputId": "0ff53f28-5f1c-40b3-c6b0-b3f09de8b055"
      },
      "execution_count": null,
      "outputs": [
        {
          "output_type": "stream",
          "name": "stdout",
          "text": [
            "x is positive\n"
          ]
        }
      ]
    },
    {
      "cell_type": "markdown",
      "source": [
        "Function"
      ],
      "metadata": {
        "id": "KA3cItA5to3P"
      }
    },
    {
      "cell_type": "code",
      "source": [
        "#define a function call greet\n",
        "def greet(name):\n",
        "    print(\"hellow, \" +name)"
      ],
      "metadata": {
        "id": "QR2jm9ZRttln"
      },
      "execution_count": 16,
      "outputs": []
    },
    {
      "cell_type": "code",
      "source": [
        "# cell the function\n",
        "greet(\"shadow\")"
      ],
      "metadata": {
        "colab": {
          "base_uri": "https://localhost:8080/"
        },
        "id": "enXiuWV0vCLi",
        "outputId": "2fda41a5-52db-474b-aabb-3a932ad1c9f2"
      },
      "execution_count": 17,
      "outputs": [
        {
          "output_type": "stream",
          "name": "stdout",
          "text": [
            "hellow, shadow\n"
          ]
        }
      ]
    },
    {
      "cell_type": "markdown",
      "source": [
        "Coding excercise"
      ],
      "metadata": {
        "id": "4WKmx4oowY4q"
      }
    },
    {
      "cell_type": "code",
      "source": [
        "# coding example with function and conditional statement def check_even_odd(num):\n",
        "# write my code here\n",
        "if num % 4 == 0:\n",
        "     print(num, \"is even\")\n",
        "else:\n",
        "     print(num, \"is odd\")"
      ],
      "metadata": {
        "id": "vNUC4TMkwf18"
      },
      "execution_count": null,
      "outputs": []
    },
    {
      "cell_type": "code",
      "source": [
        "# check the function\n",
        "check_even_odd(20)\n",
        "check_even_odd(7)"
      ],
      "metadata": {
        "id": "kehawTbj1yvj"
      },
      "execution_count": null,
      "outputs": []
    }
  ]
}