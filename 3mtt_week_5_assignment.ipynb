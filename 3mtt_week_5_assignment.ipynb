{
  "nbformat": 4,
  "nbformat_minor": 0,
  "metadata": {
    "colab": {
      "provenance": [],
      "authorship_tag": "ABX9TyNBdCW+S4Vzsto0OYXxLAqX",
      "include_colab_link": true
    },
    "kernelspec": {
      "name": "python3",
      "display_name": "Python 3"
    },
    "language_info": {
      "name": "python"
    }
  },
  "cells": [
    {
      "cell_type": "markdown",
      "metadata": {
        "id": "view-in-github",
        "colab_type": "text"
      },
      "source": [
        "<a href=\"https://colab.research.google.com/github/Shadowne2019/Ibrahim/blob/main/3mtt_week_5_assignment.ipynb\" target=\"_parent\"><img src=\"https://colab.research.google.com/assets/colab-badge.svg\" alt=\"Open In Colab\"/></a>"
      ]
    },
    {
      "cell_type": "markdown",
      "source": [
        "Drop row with missing value"
      ],
      "metadata": {
        "id": "_R3qPf3eoEDX"
      }
    },
    {
      "cell_type": "code",
      "source": [
        "\n",
        "import pandas as pd\n",
        "\n",
        "# define a dictionary with sample data which includes some missing values\n",
        "data = {\n",
        "    'A': [1, 2, 3, None, 5, 6, 7],\n",
        "    'B': [None, 2, 3, 4, 5, 6, 7],\n",
        "    'C': [1, 2, None, None, 5, 6, 7]\n",
        "}\n",
        "\n",
        "df = pd.DataFrame(data)\n",
        "print(\"Original Data:\\n\",df)\n",
        "print()\n",
        "\n",
        "# use dropna() to remove rows with any missing values\n",
        "df_cleaned = df.dropna()\n",
        "\n",
        "print(\"Cleaned Data:\\n\",df_cleaned)"
      ],
      "metadata": {
        "colab": {
          "base_uri": "https://localhost:8080/"
        },
        "id": "9UcwkaM2sWun",
        "outputId": "2e1285e6-60e5-4cfb-ba30-68a511cb3dee"
      },
      "execution_count": 7,
      "outputs": [
        {
          "output_type": "stream",
          "name": "stdout",
          "text": [
            "Original Data:\n",
            "      A    B    C\n",
            "0  1.0  NaN  1.0\n",
            "1  2.0  2.0  2.0\n",
            "2  3.0  3.0  NaN\n",
            "3  NaN  4.0  NaN\n",
            "4  5.0  5.0  5.0\n",
            "5  6.0  6.0  6.0\n",
            "6  7.0  7.0  7.0\n",
            "\n",
            "Cleaned Data:\n",
            "      A    B    C\n",
            "1  2.0  2.0  2.0\n",
            "4  5.0  5.0  5.0\n",
            "5  6.0  6.0  6.0\n",
            "6  7.0  7.0  7.0\n"
          ]
        }
      ]
    },
    {
      "cell_type": "markdown",
      "source": [
        "Fill missing value"
      ],
      "metadata": {
        "id": "blMIyXigtR-1"
      }
    },
    {
      "cell_type": "code",
      "source": [
        "\n",
        "import pandas as pd\n",
        "\n",
        "# define a dictionary with sample data which includes some missing values\n",
        "data = {\n",
        "    'A': [1, 2, 3, None, 5, 6, 7],\n",
        "    'B': [None, 2, 3, 4, 5, 6, 7],\n",
        "    'C': [1, 2, None, None, 5, 6, 7]\n",
        "}\n",
        "\n",
        "df = pd.DataFrame(data)\n",
        "\n",
        "print(\"Original Data:\\n\", df)\n",
        "\n",
        "# filling NaN values with 0\n",
        "df.fillna(0, inplace=True)\n",
        "\n",
        "print(\"\\nData after filling NaN with 0:\\n\", df)"
      ],
      "metadata": {
        "colab": {
          "base_uri": "https://localhost:8080/"
        },
        "id": "G5upQVvYtg6m",
        "outputId": "4e08d261-e939-4c40-a348-f56d9abd1066"
      },
      "execution_count": 9,
      "outputs": [
        {
          "output_type": "stream",
          "name": "stdout",
          "text": [
            "Original Data:\n",
            "      A    B    C\n",
            "0  1.0  NaN  1.0\n",
            "1  2.0  2.0  2.0\n",
            "2  3.0  3.0  NaN\n",
            "3  NaN  4.0  NaN\n",
            "4  5.0  5.0  5.0\n",
            "5  6.0  6.0  6.0\n",
            "6  7.0  7.0  7.0\n",
            "\n",
            "Data after filling NaN with 0:\n",
            "      A    B    C\n",
            "0  1.0  0.0  1.0\n",
            "1  2.0  2.0  2.0\n",
            "2  3.0  3.0  0.0\n",
            "3  0.0  4.0  0.0\n",
            "4  5.0  5.0  5.0\n",
            "5  6.0  6.0  6.0\n",
            "6  7.0  7.0  7.0\n"
          ]
        }
      ]
    },
    {
      "cell_type": "markdown",
      "source": [
        "Using aggragate function to fill the missing value"
      ],
      "metadata": {
        "id": "DA6aasQfub8S"
      }
    },
    {
      "cell_type": "code",
      "source": [
        "\n",
        "import pandas as pd\n",
        "\n",
        "# define a dictionary with sample data which includes some missing values\n",
        "data = {\n",
        "    'A': [1, 2, 3, None, 5, 6, 7],\n",
        "    'B': [None, 2, 3, 4, 5, 6, 7],\n",
        "    'C': [1, 2, None, None, 5, 6, 7]\n",
        "}\n",
        "\n",
        "df = pd.DataFrame(data)\n",
        "\n",
        "print(\"Original Data:\\n\", df)\n",
        "\n",
        "# filling NaN values with the mean of each column\n",
        "df.fillna(df.mean(), inplace=True)\n",
        "\n",
        "print(\"\\nData after filling NaN with mean:\\n\", df)"
      ],
      "metadata": {
        "colab": {
          "base_uri": "https://localhost:8080/"
        },
        "id": "oovi6-hAurA2",
        "outputId": "37b59b3d-7b52-48d6-a92e-f8cdec81eda4"
      },
      "execution_count": 11,
      "outputs": [
        {
          "output_type": "stream",
          "name": "stdout",
          "text": [
            "Original Data:\n",
            "      A    B    C\n",
            "0  1.0  NaN  1.0\n",
            "1  2.0  2.0  2.0\n",
            "2  3.0  3.0  NaN\n",
            "3  NaN  4.0  NaN\n",
            "4  5.0  5.0  5.0\n",
            "5  6.0  6.0  6.0\n",
            "6  7.0  7.0  7.0\n",
            "\n",
            "Data after filling NaN with mean:\n",
            "      A    B    C\n",
            "0  1.0  4.5  1.0\n",
            "1  2.0  2.0  2.0\n",
            "2  3.0  3.0  4.2\n",
            "3  4.0  4.0  4.2\n",
            "4  5.0  5.0  5.0\n",
            "5  6.0  6.0  6.0\n",
            "6  7.0  7.0  7.0\n"
          ]
        }
      ]
    },
    {
      "cell_type": "markdown",
      "source": [
        "Handle duplicate value"
      ],
      "metadata": {
        "id": "izFwwFm3x76N"
      }
    },
    {
      "cell_type": "code",
      "source": [
        "\n",
        "import pandas as pd\n",
        "\n",
        "# sample data\n",
        "data = {\n",
        "    'A': [1, 2, 2, 3, 3, 4, 5],\n",
        "    'B': [5, 6, 6, 7, 8, 8, 9]\n",
        "}\n",
        "df = pd.DataFrame(data)\n",
        "\n",
        "print(\"Original DataFrame:\\n\", df.to_string(index=False))\n",
        "\n",
        "# detect duplicates\n",
        "print(\"\\nDuplicate Rows:\\n\", df[df.duplicated()].to_string(index=False))\n",
        "\n",
        "# remove duplicates based on column 'A'\n",
        "df.drop_duplicates(subset=['A'], keep='first', inplace=True)\n",
        "\n",
        "print(\"\\nDataFrame after removing duplicates based on column 'A':\\n\", df.to_string(index=False))"
      ],
      "metadata": {
        "colab": {
          "base_uri": "https://localhost:8080/"
        },
        "id": "bEsf8wHgyEFQ",
        "outputId": "91ae4225-8e52-4b66-eb13-bcbf4af94359"
      },
      "execution_count": 13,
      "outputs": [
        {
          "output_type": "stream",
          "name": "stdout",
          "text": [
            "Original DataFrame:\n",
            "  A  B\n",
            " 1  5\n",
            " 2  6\n",
            " 2  6\n",
            " 3  7\n",
            " 3  8\n",
            " 4  8\n",
            " 5  9\n",
            "\n",
            "Duplicate Rows:\n",
            "  A  B\n",
            " 2  6\n",
            "\n",
            "DataFrame after removing duplicates based on column 'A':\n",
            "  A  B\n",
            " 1  5\n",
            " 2  6\n",
            " 3  7\n",
            " 4  8\n",
            " 5  9\n"
          ]
        }
      ]
    },
    {
      "cell_type": "markdown",
      "source": [
        "Rename colums names with meaningful names"
      ],
      "metadata": {
        "id": "OcCu3io9y789"
      }
    },
    {
      "cell_type": "code",
      "source": [
        "\n",
        "import pandas as pd\n",
        "\n",
        "# sample data\n",
        "data = {\n",
        "    'A': ['auwal', 'sani', 'salihi'],\n",
        "    'B': [27, 37, 47],\n",
        "    'C': [80000, 180000, 90000]\n",
        "}\n",
        "\n",
        "df = pd.DataFrame(data)\n",
        "\n",
        "# rename columns\n",
        "df.rename(columns={'A': 'name', 'B': 'age', 'C': 'alawas'}, inplace=True)\n",
        "\n",
        "print(df.to_string(index=False))"
      ],
      "metadata": {
        "colab": {
          "base_uri": "https://localhost:8080/"
        },
        "id": "EJJ5SCOnzCnh",
        "outputId": "a15c840c-6548-489c-a9e3-3152e8e4b304"
      },
      "execution_count": 16,
      "outputs": [
        {
          "output_type": "stream",
          "name": "stdout",
          "text": [
            "  name  age  alawas\n",
            " auwal   27   80000\n",
            "  sani   37  180000\n",
            "salihi   47   90000\n"
          ]
        }
      ]
    }
  ]
}